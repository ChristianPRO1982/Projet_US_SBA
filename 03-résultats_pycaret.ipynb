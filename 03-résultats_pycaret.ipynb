{
 "cells": [
  {
   "cell_type": "markdown",
   "metadata": {},
   "source": [
    "___\n",
    "## SBAnational-EDA.csv"
   ]
  },
  {
   "cell_type": "markdown",
   "metadata": {},
   "source": [
    "| Model   | Description                      | Accuracy | AUC   | Recall | Prec. | F1    | Kappa | MCC   | TT (Sec) |\n",
    "|---------|----------------------------------|----------|-------|--------|-------|-------|-------|-------|----------|\n",
    "| lightgbm| Light Gradient Boosting Machine  | 0.9395   | 0.9711| 0.9395 | 0.9384| 0.9388| 0.7860| 0.7865| 189.8220 |\n",
    "| xgboost | Extreme Gradient Boosting        | 0.9389   | 0.9687| 0.9389 | 0.9377| 0.9381| 0.7835| 0.7841| 3.0760   |\n",
    "| rf      | Random Forest Classifier         | 0.9353   | 0.9650| 0.9353 | 0.9338| 0.9342| 0.7691| 0.7702| 27.9080  |\n",
    "| dt      | Decision Tree Classifier         | 0.9119   | 0.8466| 0.9119 | 0.9117| 0.9118| 0.6949| 0.6949| 2.7240   |\n",
    "| knn     | K Neighbors Classifier           | 0.8935   | 0.8843| 0.8935 | 0.8880| 0.8894| 0.6054| 0.6093| 9.3760   |\n",
    "| lr      | Logistic Regression              | 0.8642   | 0.8521| 0.8642 | 0.8508| 0.8457| 0.4196| 0.4510| 2.5620   |\n",
    "| ridge   | Ridge Classifier                 | 0.8375   | 0.0000| 0.8375 | 0.8224| 0.7851| 0.1608| 0.2494| 1.8700   |\n"
   ]
  },
  {
   "cell_type": "markdown",
   "metadata": {},
   "source": [
    "___\n",
    "## SBAnational-EDA2.csv"
   ]
  },
  {
   "cell_type": "markdown",
   "metadata": {},
   "source": [
    "| Model | Description | Accuracy | AUC   | Recall | Prec. | F1    | Kappa | MCC   | TT (Sec) |\n",
    "|-------|-------------|----------|-------|--------|-------|-------|-------|-------|----------|\n",
    "| lightgbm | Light Gradient Boosting Machine | 0.9395 | 0.9711 | 0.9395 | 0.9384 | 0.9388 | 0.7860 | 0.7865 | 192.3720 |\n",
    "| xgboost | Extreme Gradient Boosting | 0.9389 | 0.9687 | 0.9389 | 0.9377 | 0.9381 | 0.7835 | 0.7841 | 3.2780 |\n",
    "| rf | Random Forest Classifier | 0.9353 | 0.9650 | 0.9353 | 0.9338 | 0.9342 | 0.7691 | 0.7702 | 25.9220 |\n",
    "| dt | Decision Tree Classifier | 0.9119 | 0.8466 | 0.9119 | 0.9117 | 0.9118 | 0.6949 | 0.6949 | 2.5860 |\n",
    "| knn | K Neighbors Classifier | 0.8935 | 0.8843 | 0.8935 | 0.8880 | 0.8894 | 0.6054 | 0.6093 | 8.3660 |\n",
    "| lr | Logistic Regression | 0.8642 | 0.8521 | 0.8642 | 0.8508 | 0.8457 | 0.4196 | 0.4510 | 2.3080 |\n",
    "| ridge | Ridge Classifier | 0.8375 | 0.0000 | 0.8375 | 0.8224 | 0.7851 | 0.1608 | 0.2494 | 1.8240 |\n"
   ]
  },
  {
   "cell_type": "markdown",
   "metadata": {},
   "source": [
    "___\n",
    "avec le bon dataset"
   ]
  },
  {
   "cell_type": "markdown",
   "metadata": {},
   "source": [
    "| Model    | Description                      | Accuracy | AUC    | Recall | Prec.  | F1     | Kappa  | MCC    | TT (Sec) |\n",
    "|----------|---------------------------------|----------|--------|--------|--------|--------|--------|--------|----------|\n",
    "| lightgbm | Light Gradient Boosting Machine | 0.9416   | 0.9727 | 0.9416 | 0.9403 | 0.9407 | 0.7925 | 0.7933 | 219.9360 |"
   ]
  }
 ],
 "metadata": {
  "language_info": {
   "name": "python"
  }
 },
 "nbformat": 4,
 "nbformat_minor": 2
}
