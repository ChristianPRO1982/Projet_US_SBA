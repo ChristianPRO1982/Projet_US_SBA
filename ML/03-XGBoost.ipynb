{
 "cells": [
  {
   "cell_type": "markdown",
   "metadata": {},
   "source": [
    "___\n",
    "___\n",
    "___\n",
    "# Light GBM\n",
    "___\n",
    "___\n",
    "___"
   ]
  },
  {
   "cell_type": "code",
   "execution_count": 46,
   "metadata": {},
   "outputs": [
    {
     "name": "stdout",
     "output_type": "stream",
     "text": [
      "COUNT= 894811\n",
      "\n",
      "Index(['City', 'State', 'Zip', 'Bank', 'BankState', 'NAICS', 'ApprovalDate',\n",
      "       'ApprovalFY', 'Term', 'NoEmp', 'NewExist', 'CreateJob', 'RetainedJob',\n",
      "       'FranchiseCode', 'UrbanRural', 'RevLineCr', 'LowDoc', 'MIS_Status',\n",
      "       'GrAppv', 'SBA_Appv', 'NAICS2', 'DiffJobs'],\n",
      "      dtype='object')\n"
     ]
    }
   ],
   "source": [
    "import numpy as np\n",
    "import matplotlib.pyplot as plt\n",
    "import seaborn as sns\n",
    "import pandas as pd\n",
    "from sklearn import metrics\n",
    "from sklearn.metrics import roc_auc_score, confusion_matrix\n",
    "from sklearn.preprocessing import StandardScaler, LabelEncoder\n",
    "from sklearn.model_selection import train_test_split\n",
    "import lightgbm as lgb\n",
    "\n",
    "df = pd.read_csv('./data_set/SBAnational-EDA.csv')\n",
    "# df = pd.read_csv('./data_set/SBAnational1000.csv')\n",
    "df = df.drop(columns=['Unnamed: 0'], axis=1).reset_index(drop=True)\n",
    "\n",
    "print(\"COUNT=\", df.shape[0])\n",
    "print()\n",
    "print(df.columns)"
   ]
  },
  {
   "cell_type": "code",
   "execution_count": 47,
   "metadata": {},
   "outputs": [],
   "source": [
    "dd = df.groupby(['ApprovalFY', 'MIS_Status']).size().reset_index(name='count')\n",
    "\n",
    "# Pivoter les résultats\n",
    "dd = dd.pivot(index='ApprovalFY', columns='MIS_Status', values='count').reset_index()\n",
    "\n",
    "# Remplacer les NaN par 0\n",
    "dd.fillna(0, inplace=True)\n",
    "\n",
    "# Créer une nouvelle colonne basée sur la comparaison 'CHGOFF' > 'P I F'\n",
    "dd['ApprovalFY_bool'] = dd.apply(lambda row: 0 if row['CHGOFF'] > row['P I F'] else 1, axis=1)\n",
    "\n",
    "dd = dd[['ApprovalFY_bool']]\n",
    "\n",
    "df = pd.concat([df, dd], axis=1)"
   ]
  },
  {
   "cell_type": "code",
   "execution_count": 48,
   "metadata": {},
   "outputs": [],
   "source": [
    "df = df[[\n",
    "    'City',\n",
    "    'State',\n",
    "    'Zip',\n",
    "    'Bank',\n",
    "    'BankState',\n",
    "    'NAICS',\n",
    "    # 'NAICS2',\n",
    "    'ApprovalDate',\n",
    "    'ApprovalFY',\n",
    "    # 'ApprovalFY_bool',\n",
    "    'Term',\n",
    "    'NoEmp',\n",
    "    'NewExist',\n",
    "    'CreateJob',\n",
    "    'RetainedJob',\n",
    "    'DiffJobs',\n",
    "    'FranchiseCode',\n",
    "    'UrbanRural',\n",
    "    'RevLineCr',\n",
    "    'LowDoc',\n",
    "    'GrAppv',\n",
    "    'SBA_Appv',\n",
    "    'MIS_Status',\n",
    "    ]]"
   ]
  },
  {
   "cell_type": "code",
   "execution_count": 49,
   "metadata": {},
   "outputs": [
    {
     "data": {
      "text/html": [
       "<div>\n",
       "<style scoped>\n",
       "    .dataframe tbody tr th:only-of-type {\n",
       "        vertical-align: middle;\n",
       "    }\n",
       "\n",
       "    .dataframe tbody tr th {\n",
       "        vertical-align: top;\n",
       "    }\n",
       "\n",
       "    .dataframe thead th {\n",
       "        text-align: right;\n",
       "    }\n",
       "</style>\n",
       "<table border=\"1\" class=\"dataframe\">\n",
       "  <thead>\n",
       "    <tr style=\"text-align: right;\">\n",
       "      <th></th>\n",
       "      <th>0</th>\n",
       "    </tr>\n",
       "  </thead>\n",
       "  <tbody>\n",
       "    <tr>\n",
       "      <th>City</th>\n",
       "      <td>EVANSVILLE</td>\n",
       "    </tr>\n",
       "    <tr>\n",
       "      <th>State</th>\n",
       "      <td>IN</td>\n",
       "    </tr>\n",
       "    <tr>\n",
       "      <th>Zip</th>\n",
       "      <td>47711</td>\n",
       "    </tr>\n",
       "    <tr>\n",
       "      <th>Bank</th>\n",
       "      <td>FIFTH THIRD BANK</td>\n",
       "    </tr>\n",
       "    <tr>\n",
       "      <th>BankState</th>\n",
       "      <td>IN</td>\n",
       "    </tr>\n",
       "    <tr>\n",
       "      <th>NAICS</th>\n",
       "      <td>451120</td>\n",
       "    </tr>\n",
       "    <tr>\n",
       "      <th>ApprovalDate</th>\n",
       "      <td>1997-02-28</td>\n",
       "    </tr>\n",
       "    <tr>\n",
       "      <th>ApprovalFY</th>\n",
       "      <td>1997-01-01</td>\n",
       "    </tr>\n",
       "    <tr>\n",
       "      <th>Term</th>\n",
       "      <td>84</td>\n",
       "    </tr>\n",
       "    <tr>\n",
       "      <th>NoEmp</th>\n",
       "      <td>4</td>\n",
       "    </tr>\n",
       "    <tr>\n",
       "      <th>NewExist</th>\n",
       "      <td>2.0</td>\n",
       "    </tr>\n",
       "    <tr>\n",
       "      <th>CreateJob</th>\n",
       "      <td>0</td>\n",
       "    </tr>\n",
       "    <tr>\n",
       "      <th>RetainedJob</th>\n",
       "      <td>0</td>\n",
       "    </tr>\n",
       "    <tr>\n",
       "      <th>DiffJobs</th>\n",
       "      <td>0</td>\n",
       "    </tr>\n",
       "    <tr>\n",
       "      <th>FranchiseCode</th>\n",
       "      <td>0</td>\n",
       "    </tr>\n",
       "    <tr>\n",
       "      <th>UrbanRural</th>\n",
       "      <td>0</td>\n",
       "    </tr>\n",
       "    <tr>\n",
       "      <th>RevLineCr</th>\n",
       "      <td>N</td>\n",
       "    </tr>\n",
       "    <tr>\n",
       "      <th>LowDoc</th>\n",
       "      <td>Y</td>\n",
       "    </tr>\n",
       "    <tr>\n",
       "      <th>GrAppv</th>\n",
       "      <td>60000.0</td>\n",
       "    </tr>\n",
       "    <tr>\n",
       "      <th>SBA_Appv</th>\n",
       "      <td>48000.0</td>\n",
       "    </tr>\n",
       "    <tr>\n",
       "      <th>MIS_Status</th>\n",
       "      <td>P I F</td>\n",
       "    </tr>\n",
       "  </tbody>\n",
       "</table>\n",
       "</div>"
      ],
      "text/plain": [
       "                              0\n",
       "City                 EVANSVILLE\n",
       "State                        IN\n",
       "Zip                       47711\n",
       "Bank           FIFTH THIRD BANK\n",
       "BankState                    IN\n",
       "NAICS                    451120\n",
       "ApprovalDate         1997-02-28\n",
       "ApprovalFY           1997-01-01\n",
       "Term                         84\n",
       "NoEmp                         4\n",
       "NewExist                    2.0\n",
       "CreateJob                     0\n",
       "RetainedJob                   0\n",
       "DiffJobs                      0\n",
       "FranchiseCode                 0\n",
       "UrbanRural                    0\n",
       "RevLineCr                     N\n",
       "LowDoc                        Y\n",
       "GrAppv                  60000.0\n",
       "SBA_Appv                48000.0\n",
       "MIS_Status                P I F"
      ]
     },
     "execution_count": 49,
     "metadata": {},
     "output_type": "execute_result"
    }
   ],
   "source": [
    "df.head(1).transpose()"
   ]
  },
  {
   "cell_type": "code",
   "execution_count": 50,
   "metadata": {},
   "outputs": [
    {
     "name": "stdout",
     "output_type": "stream",
     "text": [
      "['Zip', 'NAICS', 'Term', 'NoEmp', 'NewExist', 'CreateJob', 'RetainedJob', 'DiffJobs', 'FranchiseCode', 'UrbanRural', 'GrAppv', 'SBA_Appv']\n",
      "['City', 'State', 'Bank', 'BankState', 'ApprovalDate', 'ApprovalFY', 'RevLineCr', 'LowDoc', 'MIS_Status']\n"
     ]
    }
   ],
   "source": [
    "colonnes_numeriques = df.select_dtypes(include=['number']).columns.tolist()\n",
    "\n",
    "# Sélectionner les colonnes non numériques\n",
    "colonnes_non_numeriques = df.drop(columns=colonnes_numeriques).columns.tolist()\n",
    "\n",
    "print(colonnes_numeriques)\n",
    "print(colonnes_non_numeriques)"
   ]
  },
  {
   "cell_type": "code",
   "execution_count": 51,
   "metadata": {},
   "outputs": [
    {
     "name": "stdout",
     "output_type": "stream",
     "text": [
      "Colonnes avec des valeurs manquantes :\n",
      " State         6\n",
      "Bank         25\n",
      "BankState    25\n",
      "dtype: int64\n"
     ]
    }
   ],
   "source": [
    "# Créer un nouveau DataFrame sans les lignes contenant des valeurs NaN\n",
    "# df = df.dropna()\n",
    "\n",
    "# Vérifier s'il y a des valeurs manquantes dans le DataFrame\n",
    "missing_values = df.isnull().sum()\n",
    "# Afficher les colonnes avec des valeurs manquantes\n",
    "print(\"Colonnes avec des valeurs manquantes :\\n\", missing_values[missing_values > 0])\n",
    "\n",
    "# Vérifier les types de données de chaque colonne\n",
    "# data_types = df.dtypes\n",
    "# Afficher les types de données de chaque colonne\n",
    "# print(\"Types de données de chaque colonne :\\n\", data_types)"
   ]
  },
  {
   "cell_type": "code",
   "execution_count": 52,
   "metadata": {},
   "outputs": [
    {
     "name": "stdout",
     "output_type": "stream",
     "text": [
      "[LightGBM] [Info] Auto-choosing col-wise multi-threading, the overhead of testing was 0.084842 seconds.\n",
      "You can set `force_col_wise=true` to remove the overhead.\n",
      "[LightGBM] [Info] Total Bins 29638\n",
      "[LightGBM] [Info] Number of data points in the train set: 850070, number of used features: 13795\n",
      "[LightGBM] [Info] Start training from score -1.739281\n",
      "[LightGBM] [Info] Start training from score -0.193156\n"
     ]
    }
   ],
   "source": [
    "import lightgbm as lgb\n",
    "from sklearn.model_selection import train_test_split\n",
    "from sklearn.metrics import classification_report\n",
    "from sklearn.compose import make_column_transformer, make_column_selector\n",
    "from sklearn.pipeline import make_pipeline\n",
    "from sklearn.impute import SimpleImputer\n",
    "from sklearn.preprocessing import StandardScaler, OneHotEncoder, LabelEncoder\n",
    "from datetime import datetime\n",
    "\n",
    "grid_search_bool = False\n",
    "\n",
    "numerical_features = make_column_selector(dtype_include=np.number)\n",
    "categorical_features = make_column_selector(dtype_exclude=np.number)\n",
    "\n",
    "# Définir le preprocessor\n",
    "label_encoder = LabelEncoder()\n",
    "preprocessor = make_column_transformer(\n",
    "    (make_pipeline(SimpleImputer(), StandardScaler()), numerical_features),\n",
    "    (make_pipeline(SimpleImputer(strategy='most_frequent'), OneHotEncoder(drop='if_binary')), categorical_features),\n",
    ")\n",
    "\n",
    "# Prétraiter les données\n",
    "X = preprocessor.fit_transform(df.drop(columns='MIS_Status'))\n",
    "y = label_encoder.fit_transform(df['MIS_Status'])\n",
    "\n",
    "X_train, X_test, y_train, y_test = train_test_split(X, y, shuffle=True, test_size=0.05, random_state=42, stratify=y)\n",
    "# y_train = y_train.astype(int).tolist()\n",
    "# y_test = y_test.astype(int).tolist()\n",
    "\n",
    "if grid_search_bool == False:\n",
    "    # LGBM\n",
    "    d_train = lgb.Dataset(X_train, label=y_train)\n",
    "\n",
    "    # https://lightgbm.readthedocs.io/en/latest/Parameters.html\n",
    "    # best f1 macro : 0.9154\n",
    "    # \n",
    "    lgbm_params = {\n",
    "        'objective': ['multiclass'], # binary multiclass\n",
    "        'num_class': 2,\n",
    "        'boosting_type': ['gbdt'], # dart goss rf\n",
    "        'metric': ['multi_logloss'],\n",
    "        'num_leaves': [500], # [10, 50, 100]\n",
    "        'learning_rate': [0.2], # [0.01, 0.05, 0.1, 0.2]\n",
    "        'feature_fraction': [0.8],\n",
    "        'bagging_fraction': [0.8],\n",
    "        'bagging_freq': [5],\n",
    "        'lambda_l1': [1], # [0.1, 0.5, 1.0, 2.0]\n",
    "        'lambda_l2': [1], # [0.1, 0.5, 1.0, 2.0]\n",
    "        'verbose': [1],\n",
    "    }\n",
    "    # pycaret\n",
    "    # lgbm_params = {\n",
    "    #     'objective': [None],\n",
    "    #     'class_weight': [None],\n",
    "    #     'colsample_bytree': [1.0],\n",
    "    #     'importance_type': ['split'],\n",
    "    #     'learning_rate': [0.1],\n",
    "    #     'max_depth': [-1],\n",
    "    #     'min_child_samples': [20],\n",
    "    #     'min_child_weight': [0.001],\n",
    "    #     'min_split_gain': [0.0],\n",
    "    #     'n_estimators': [100],\n",
    "    #     'n_jobs': [-1],\n",
    "    #     'num_leaves': [31],\n",
    "    #     'random_state': [0],\n",
    "    #     'reg_alpha': [0.0],\n",
    "    #     'reg_lambda': [0.0],\n",
    "    #     'subsample': [1.0],\n",
    "    #     'subsample_for_bin': [200000],\n",
    "    #     'subsample_freq': [0],\n",
    "    #     'metric': ['f1'],\n",
    "    #     # 'feature_fraction': [0.8],\n",
    "    #     # 'bagging_fraction': [0.8],\n",
    "    #     # 'bagging_freq': [10],\n",
    "    #     # 'lambda_l1': [1], # [0.1, 0.5, 1.0, 2.0]\n",
    "    #     # 'lambda_l2': [1], # [0.1, 0.5, 1.0, 2.0]\n",
    "    #     # 'verbose': [1],\n",
    "    # }\n",
    "\n",
    "    start=datetime.now()\n",
    "    clf = lgb.train(lgbm_params, d_train, 50) #50 iterations. Increase iterations for small learning rates\n",
    "    stop=datetime.now()\n",
    "    execution_time_lgbm = stop-start\n",
    "\n",
    "    #Prediction on test data\n",
    "    y_pred_lgbm=clf.predict(X_test)\n",
    "\n",
    "    #convert into binary values 0/1 for classification\n",
    "    y_pred_lgbm = [list(x).index(max(x)) for x in y_pred_lgbm]\n"
   ]
  },
  {
   "cell_type": "code",
   "execution_count": 53,
   "metadata": {},
   "outputs": [
    {
     "name": "stdout",
     "output_type": "stream",
     "text": [
      "#########################################################\n",
      "     LGBM execution time is:  0:00:29.051714\n",
      "#########################################################\n",
      "              precision    recall  f1-score       support\n",
      "0              0.876718  0.844255  0.860180   7859.000000\n",
      "1              0.967073  0.974703  0.970873  36882.000000\n",
      "accuracy       0.951789  0.951789  0.951789      0.951789\n",
      "macro avg      0.921895  0.909479  0.915527  44741.000000\n",
      "weighted avg   0.951202  0.951789  0.951429  44741.000000\n",
      "#########################################################\n",
      "                  F1 macro score: 0.9155\n",
      "#########################################################\n"
     ]
    },
    {
     "data": {
      "image/png": "[encoded data removed]",
      "text/plain": [
       "<Figure size 800x600 with 2 Axes>"
      ]
     },
     "metadata": {},
     "output_type": "display_data"
    }
   ],
   "source": [
    "if grid_search_bool == False:\n",
    "    plt.figure(figsize=(8, 6))\n",
    "    cm_lgbm = confusion_matrix(y_test, y_pred_lgbm)\n",
    "    sns.heatmap(cm_lgbm, annot=True)\n",
    "    plt.title(\"LightGBM\")\n",
    "    plt.xlabel('Valeurs Prédites')\n",
    "    plt.ylabel('Valeurs Réelles')\n",
    "\n",
    "    ################\n",
    "    #SUMMARY\n",
    "    report = classification_report(y_test, y_pred_lgbm, output_dict=True)\n",
    "    df_report = pd.DataFrame(report)\n",
    "    print(\"#########################################################\")\n",
    "    print(\"     LGBM execution time is: \", execution_time_lgbm)\n",
    "    print(\"#########################################################\")\n",
    "    print(df_report.T)\n",
    "    print(\"#########################################################\")\n",
    "    print(\"                  F1 macro score:\", round(report[\"macro avg\"][\"f1-score\"], 4))\n",
    "    print(\"#########################################################\")"
   ]
  },
  {
   "cell_type": "markdown",
   "metadata": {},
   "source": [
    "___\n",
    "___\n",
    "___\n",
    "### nouvelle version : XGBoost\n",
    "___\n",
    "___\n",
    "___"
   ]
  },
  {
   "cell_type": "code",
   "execution_count": 54,
   "metadata": {},
   "outputs": [
    {
     "name": "stdout",
     "output_type": "stream",
     "text": [
      "COUNT (X)= 894811\n",
      "execution_time: 0:00:10.774501\n"
     ]
    }
   ],
   "source": [
    "import numpy as np\n",
    "import pandas as pd\n",
    "from sklearn.model_selection import train_test_split\n",
    "from sklearn.preprocessing import StandardScaler, LabelEncoder\n",
    "from sklearn.pipeline import Pipeline\n",
    "import xgboost as xgb\n",
    "\n",
    "\n",
    "label_encoder = LabelEncoder()\n",
    "preprocessor = make_column_transformer(\n",
    "    (make_pipeline(SimpleImputer(), StandardScaler()), numerical_features),\n",
    "    (make_pipeline(SimpleImputer(strategy='most_frequent'), OneHotEncoder(handle_unknown='ignore')), categorical_features),\n",
    ")\n",
    "\n",
    "# Définition du pipeline\n",
    "pipeline = Pipeline([\n",
    "    ('preprocessor', preprocessor),\n",
    "    ('classifier', xgb.XGBClassifier(\n",
    "        objective='binary:logistic',\n",
    "        eval_metric='error',\n",
    "        eta=0.1,\n",
    "        max_depth=6,\n",
    "        min_child_weight=1,\n",
    "        subsample=0.8,\n",
    "        colsample_bytree=0.8,\n",
    "        gamma=0,\n",
    "        seed=42\n",
    "    ))\n",
    "])\n",
    "\n",
    "# Séparation des fonctionnalités et de la variable cible\n",
    "X = df.drop(columns='MIS_Status')\n",
    "y = label_encoder.fit_transform(df['MIS_Status'])\n",
    "print(\"COUNT (X)=\", X.shape[0])\n",
    "\n",
    "# Division des données en ensembles d'entraînement et de test\n",
    "X_train, X_test, y_train, y_test = train_test_split(X, y, test_size=0.2, random_state=42)\n",
    "\n",
    "# Entraînement du pipeline\n",
    "start=datetime.now()\n",
    "pipeline.fit(X_train, y_train)\n",
    "stop=datetime.now()\n",
    "execution_time = stop-start\n",
    "\n",
    "# Évaluation du pipeline\n",
    "y_pred = pipeline.predict(X_test)\n",
    "print(\"execution_time:\", execution_time)"
   ]
  },
  {
   "cell_type": "code",
   "execution_count": 55,
   "metadata": {},
   "outputs": [
    {
     "name": "stdout",
     "output_type": "stream",
     "text": [
      "#########################################################\n",
      "      XGBoost execution time is:  0:00:10.774501\n",
      "#########################################################\n",
      "              precision    recall  f1-score        support\n",
      "0              0.859094  0.778931  0.817051   31497.000000\n",
      "1              0.953705  0.972712  0.963115  147466.000000\n",
      "accuracy       0.938607  0.938607  0.938607       0.938607\n",
      "macro avg      0.906399  0.875822  0.890083  178963.000000\n",
      "weighted avg   0.937054  0.938607  0.937408  178963.000000\n",
      "#########################################################\n",
      "                  F1 macro score: 0.8901\n",
      "#########################################################\n"
     ]
    },
    {
     "data": {
      "image/png": "[encoded data removed]",
      "text/plain": [
       "<Figure size 800x600 with 2 Axes>"
      ]
     },
     "metadata": {},
     "output_type": "display_data"
    }
   ],
   "source": [
    "#Prediction on test data\n",
    "y_pred_XGB=pipeline.predict(X_test)\n",
    "\n",
    "if grid_search_bool == False:\n",
    "    plt.figure(figsize=(8, 6))\n",
    "    cm_XGB = confusion_matrix(y_test, y_pred_XGB)\n",
    "    sns.heatmap(cm_XGB, annot=True)\n",
    "    plt.title(\"XGBoost\")\n",
    "    plt.xlabel('Valeurs Prédites')\n",
    "    plt.ylabel('Valeurs Réelles')\n",
    "\n",
    "    ################\n",
    "    #SUMMARY\n",
    "    report = classification_report(y_test, y_pred_XGB, output_dict=True)\n",
    "    df_report = pd.DataFrame(report)\n",
    "    print(\"#########################################################\")\n",
    "    print(\"      XGBoost execution time is: \", execution_time)\n",
    "    print(\"#########################################################\")\n",
    "    print(df_report.T)\n",
    "    print(\"#########################################################\")\n",
    "    print(\"                  F1 macro score:\", round(report[\"macro avg\"][\"f1-score\"], 4))\n",
    "    print(\"#########################################################\")"
   ]
  },
  {
   "cell_type": "markdown",
   "metadata": {},
   "source": [
    "___\n",
    "# PICKLE"
   ]
  },
  {
   "cell_type": "code",
   "execution_count": 56,
   "metadata": {},
   "outputs": [],
   "source": [
    "import pickle\n",
    "\n",
    "# Définir le nom du fichier pkl\n",
    "filename = './model/modelXGB.pkl'\n",
    "\n",
    "# Sauvegarder le modèle dans le fichier pkl\n",
    "with open(filename, 'wb') as file:\n",
    "    pickle.dump(pipeline, file)\n"
   ]
  }
 ],
 "metadata": {
  "kernelspec": {
   "display_name": "Python 3",
   "language": "python",
   "name": "python3"
  },
  "language_info": {
   "codemirror_mode": {
    "name": "ipython",
    "version": 3
   },
   "file_extension": ".py",
   "mimetype": "text/x-python",
   "name": "python",
   "nbconvert_exporter": "python",
   "pygments_lexer": "ipython3",
   "version": "3.10.12"
  }
 },
 "nbformat": 4,
 "nbformat_minor": 2
}
