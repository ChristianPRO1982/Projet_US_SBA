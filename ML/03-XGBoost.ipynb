{
 "cells": [
  {
   "cell_type": "markdown",
   "metadata": {},
   "source": [
    "___\n",
    "___\n",
    "___\n",
    "# Light GBM\n",
    "___\n",
    "___\n",
    "___"
   ]
  },
  {
   "cell_type": "code",
<<<<<<< HEAD
   "execution_count": 8,
   "metadata": {},
   "outputs": [
    {
     "data": {
      "text/plain": [
       "Index(['City', 'State', 'Zip', 'Bank', 'BankState', 'NAICS', 'ApprovalDate',\n",
       "       'ApprovalFY', 'Term', 'NoEmp', 'NewExist', 'CreateJob', 'RetainedJob',\n",
       "       'FranchiseCode', 'UrbanRural', 'RevLineCr', 'LowDoc', 'MIS_Status',\n",
       "       'GrAppv', 'SBA_Appv', 'NAICS2', 'DiffJobs'],\n",
       "      dtype='object')"
      ]
     },
     "execution_count": 8,
     "metadata": {},
     "output_type": "execute_result"
=======
   "execution_count": 46,
   "metadata": {},
   "outputs": [
    {
     "name": "stdout",
     "output_type": "stream",
     "text": [
      "COUNT= 894811\n",
      "\n",
      "Index(['City', 'State', 'Zip', 'Bank', 'BankState', 'NAICS', 'ApprovalDate',\n",
      "       'ApprovalFY', 'Term', 'NoEmp', 'NewExist', 'CreateJob', 'RetainedJob',\n",
      "       'FranchiseCode', 'UrbanRural', 'RevLineCr', 'LowDoc', 'MIS_Status',\n",
      "       'GrAppv', 'SBA_Appv', 'NAICS2', 'DiffJobs'],\n",
      "      dtype='object')\n"
     ]
>>>>>>> dev
    }
   ],
   "source": [
    "import numpy as np\n",
    "import matplotlib.pyplot as plt\n",
    "import seaborn as sns\n",
    "import pandas as pd\n",
    "from sklearn import metrics\n",
    "from sklearn.metrics import roc_auc_score, confusion_matrix\n",
    "from sklearn.preprocessing import StandardScaler, LabelEncoder\n",
    "from sklearn.model_selection import train_test_split\n",
    "import lightgbm as lgb\n",
    "\n",
<<<<<<< HEAD
    "# df = pd.read_csv('./data_set/SBAnational-EDA.csv')\n",
    "df = pd.read_csv('./data_set/SBAnational1000.csv')\n",
    "df = df.drop(columns=['Unnamed: 0'], axis=1).reset_index(drop=True)\n",
    "\n",
    "df.columns"
=======
    "df = pd.read_csv('./data_set/SBAnational-EDA.csv')\n",
    "# df = pd.read_csv('./data_set/SBAnational1000.csv')\n",
    "df = df.drop(columns=['Unnamed: 0'], axis=1).reset_index(drop=True)\n",
    "\n",
    "print(\"COUNT=\", df.shape[0])\n",
    "print()\n",
    "print(df.columns)"
>>>>>>> dev
   ]
  },
  {
   "cell_type": "code",
<<<<<<< HEAD
   "execution_count": 9,
=======
   "execution_count": 47,
>>>>>>> dev
   "metadata": {},
   "outputs": [],
   "source": [
    "dd = df.groupby(['ApprovalFY', 'MIS_Status']).size().reset_index(name='count')\n",
    "\n",
    "# Pivoter les résultats\n",
    "dd = dd.pivot(index='ApprovalFY', columns='MIS_Status', values='count').reset_index()\n",
    "\n",
    "# Remplacer les NaN par 0\n",
    "dd.fillna(0, inplace=True)\n",
    "\n",
    "# Créer une nouvelle colonne basée sur la comparaison 'CHGOFF' > 'P I F'\n",
    "dd['ApprovalFY_bool'] = dd.apply(lambda row: 0 if row['CHGOFF'] > row['P I F'] else 1, axis=1)\n",
    "\n",
    "dd = dd[['ApprovalFY_bool']]\n",
    "\n",
    "df = pd.concat([df, dd], axis=1)"
   ]
  },
  {
   "cell_type": "code",
<<<<<<< HEAD
   "execution_count": 10,
=======
   "execution_count": 48,
>>>>>>> dev
   "metadata": {},
   "outputs": [],
   "source": [
    "df = df[[\n",
    "    'City',\n",
    "    'State',\n",
    "    'Zip',\n",
    "    'Bank',\n",
    "    'BankState',\n",
    "    'NAICS',\n",
    "    # 'NAICS2',\n",
    "    'ApprovalDate',\n",
    "    'ApprovalFY',\n",
    "    # 'ApprovalFY_bool',\n",
    "    'Term',\n",
    "    'NoEmp',\n",
    "    'NewExist',\n",
    "    'CreateJob',\n",
    "    'RetainedJob',\n",
    "    'DiffJobs',\n",
    "    'FranchiseCode',\n",
    "    'UrbanRural',\n",
    "    'RevLineCr',\n",
    "    'LowDoc',\n",
    "    'GrAppv',\n",
    "    'SBA_Appv',\n",
    "    'MIS_Status',\n",
    "    ]]"
   ]
  },
  {
   "cell_type": "code",
<<<<<<< HEAD
   "execution_count": 11,
=======
   "execution_count": 49,
>>>>>>> dev
   "metadata": {},
   "outputs": [
    {
     "data": {
      "text/html": [
       "<div>\n",
       "<style scoped>\n",
       "    .dataframe tbody tr th:only-of-type {\n",
       "        vertical-align: middle;\n",
       "    }\n",
       "\n",
       "    .dataframe tbody tr th {\n",
       "        vertical-align: top;\n",
       "    }\n",
       "\n",
       "    .dataframe thead th {\n",
       "        text-align: right;\n",
       "    }\n",
       "</style>\n",
       "<table border=\"1\" class=\"dataframe\">\n",
       "  <thead>\n",
       "    <tr style=\"text-align: right;\">\n",
       "      <th></th>\n",
       "      <th>0</th>\n",
       "    </tr>\n",
       "  </thead>\n",
       "  <tbody>\n",
       "    <tr>\n",
       "      <th>City</th>\n",
       "      <td>EVANSVILLE</td>\n",
       "    </tr>\n",
       "    <tr>\n",
       "      <th>State</th>\n",
       "      <td>IN</td>\n",
       "    </tr>\n",
       "    <tr>\n",
       "      <th>Zip</th>\n",
       "      <td>47711</td>\n",
       "    </tr>\n",
       "    <tr>\n",
       "      <th>Bank</th>\n",
       "      <td>FIFTH THIRD BANK</td>\n",
       "    </tr>\n",
       "    <tr>\n",
       "      <th>BankState</th>\n",
       "      <td>IN</td>\n",
       "    </tr>\n",
       "    <tr>\n",
       "      <th>NAICS</th>\n",
       "      <td>451120</td>\n",
       "    </tr>\n",
       "    <tr>\n",
       "      <th>ApprovalDate</th>\n",
       "      <td>1997-02-28</td>\n",
       "    </tr>\n",
       "    <tr>\n",
       "      <th>ApprovalFY</th>\n",
       "      <td>1997-01-01</td>\n",
       "    </tr>\n",
       "    <tr>\n",
       "      <th>Term</th>\n",
       "      <td>84</td>\n",
       "    </tr>\n",
       "    <tr>\n",
       "      <th>NoEmp</th>\n",
       "      <td>4</td>\n",
       "    </tr>\n",
       "    <tr>\n",
       "      <th>NewExist</th>\n",
       "      <td>2.0</td>\n",
       "    </tr>\n",
       "    <tr>\n",
       "      <th>CreateJob</th>\n",
       "      <td>0</td>\n",
       "    </tr>\n",
       "    <tr>\n",
       "      <th>RetainedJob</th>\n",
       "      <td>0</td>\n",
       "    </tr>\n",
       "    <tr>\n",
       "      <th>DiffJobs</th>\n",
       "      <td>0</td>\n",
       "    </tr>\n",
       "    <tr>\n",
       "      <th>FranchiseCode</th>\n",
       "      <td>0</td>\n",
       "    </tr>\n",
       "    <tr>\n",
       "      <th>UrbanRural</th>\n",
       "      <td>0</td>\n",
       "    </tr>\n",
       "    <tr>\n",
       "      <th>RevLineCr</th>\n",
       "      <td>N</td>\n",
       "    </tr>\n",
       "    <tr>\n",
       "      <th>LowDoc</th>\n",
       "      <td>Y</td>\n",
       "    </tr>\n",
       "    <tr>\n",
       "      <th>GrAppv</th>\n",
       "      <td>60000.0</td>\n",
       "    </tr>\n",
       "    <tr>\n",
       "      <th>SBA_Appv</th>\n",
       "      <td>48000.0</td>\n",
       "    </tr>\n",
       "    <tr>\n",
       "      <th>MIS_Status</th>\n",
       "      <td>P I F</td>\n",
       "    </tr>\n",
       "  </tbody>\n",
       "</table>\n",
       "</div>"
      ],
      "text/plain": [
       "                              0\n",
       "City                 EVANSVILLE\n",
       "State                        IN\n",
       "Zip                       47711\n",
       "Bank           FIFTH THIRD BANK\n",
       "BankState                    IN\n",
       "NAICS                    451120\n",
       "ApprovalDate         1997-02-28\n",
       "ApprovalFY           1997-01-01\n",
       "Term                         84\n",
       "NoEmp                         4\n",
       "NewExist                    2.0\n",
       "CreateJob                     0\n",
       "RetainedJob                   0\n",
       "DiffJobs                      0\n",
       "FranchiseCode                 0\n",
       "UrbanRural                    0\n",
       "RevLineCr                     N\n",
       "LowDoc                        Y\n",
       "GrAppv                  60000.0\n",
       "SBA_Appv                48000.0\n",
       "MIS_Status                P I F"
      ]
     },
<<<<<<< HEAD
     "execution_count": 11,
=======
     "execution_count": 49,
>>>>>>> dev
     "metadata": {},
     "output_type": "execute_result"
    }
   ],
   "source": [
    "df.head(1).transpose()"
   ]
  },
  {
   "cell_type": "code",
<<<<<<< HEAD
   "execution_count": 12,
=======
   "execution_count": 50,
>>>>>>> dev
   "metadata": {},
   "outputs": [
    {
     "name": "stdout",
     "output_type": "stream",
     "text": [
      "['Zip', 'NAICS', 'Term', 'NoEmp', 'NewExist', 'CreateJob', 'RetainedJob', 'DiffJobs', 'FranchiseCode', 'UrbanRural', 'GrAppv', 'SBA_Appv']\n",
      "['City', 'State', 'Bank', 'BankState', 'ApprovalDate', 'ApprovalFY', 'RevLineCr', 'LowDoc', 'MIS_Status']\n"
     ]
    }
   ],
   "source": [
    "colonnes_numeriques = df.select_dtypes(include=['number']).columns.tolist()\n",
    "\n",
    "# Sélectionner les colonnes non numériques\n",
    "colonnes_non_numeriques = df.drop(columns=colonnes_numeriques).columns.tolist()\n",
    "\n",
    "print(colonnes_numeriques)\n",
    "print(colonnes_non_numeriques)"
   ]
  },
  {
   "cell_type": "code",
<<<<<<< HEAD
   "execution_count": 13,
=======
   "execution_count": 51,
>>>>>>> dev
   "metadata": {},
   "outputs": [
    {
     "name": "stdout",
     "output_type": "stream",
     "text": [
      "Colonnes avec des valeurs manquantes :\n",
<<<<<<< HEAD
      " Series([], dtype: int64)\n"
=======
      " State         6\n",
      "Bank         25\n",
      "BankState    25\n",
      "dtype: int64\n"
>>>>>>> dev
     ]
    }
   ],
   "source": [
    "# Créer un nouveau DataFrame sans les lignes contenant des valeurs NaN\n",
    "# df = df.dropna()\n",
    "\n",
    "# Vérifier s'il y a des valeurs manquantes dans le DataFrame\n",
    "missing_values = df.isnull().sum()\n",
    "# Afficher les colonnes avec des valeurs manquantes\n",
    "print(\"Colonnes avec des valeurs manquantes :\\n\", missing_values[missing_values > 0])\n",
    "\n",
    "# Vérifier les types de données de chaque colonne\n",
    "# data_types = df.dtypes\n",
    "# Afficher les types de données de chaque colonne\n",
    "# print(\"Types de données de chaque colonne :\\n\", data_types)"
   ]
  },
  {
   "cell_type": "code",
<<<<<<< HEAD
   "execution_count": 14,
=======
   "execution_count": 52,
>>>>>>> dev
   "metadata": {},
   "outputs": [
    {
     "name": "stdout",
     "output_type": "stream",
     "text": [
<<<<<<< HEAD
      "[LightGBM] [Info] Auto-choosing col-wise multi-threading, the overhead of testing was 0.165809 seconds.\n",
      "You can set `force_col_wise=true` to remove the overhead.\n",
      "[LightGBM] [Info] Total Bins 910\n",
      "[LightGBM] [Info] Number of data points in the train set: 976, number of used features: 59\n",
      "[LightGBM] [Info] Start training from score -1.948989\n",
      "[LightGBM] [Info] Start training from score -0.153639\n",
      "[LightGBM] [Warning] No further splits with positive gain, best gain: -inf\n",
      "[LightGBM] [Warning] No further splits with positive gain, best gain: -inf\n",
      "[LightGBM] [Warning] No further splits with positive gain, best gain: -inf\n",
      "[LightGBM] [Warning] No further splits with positive gain, best gain: -inf\n",
      "[LightGBM] [Warning] No further splits with positive gain, best gain: -inf\n",
      "[LightGBM] [Warning] No further splits with positive gain, best gain: -inf\n",
      "[LightGBM] [Warning] No further splits with positive gain, best gain: -inf\n",
      "[LightGBM] [Warning] No further splits with positive gain, best gain: -inf\n",
      "[LightGBM] [Warning] No further splits with positive gain, best gain: -inf\n",
      "[LightGBM] [Warning] No further splits with positive gain, best gain: -inf\n",
      "[LightGBM] [Warning] No further splits with positive gain, best gain: -inf\n",
      "[LightGBM] [Warning] No further splits with positive gain, best gain: -inf\n",
      "[LightGBM] [Warning] No further splits with positive gain, best gain: -inf\n",
      "[LightGBM] [Warning] No further splits with positive gain, best gain: -inf\n",
      "[LightGBM] [Warning] No further splits with positive gain, best gain: -inf\n",
      "[LightGBM] [Warning] No further splits with positive gain, best gain: -inf\n",
      "[LightGBM] [Warning] No further splits with positive gain, best gain: -inf\n",
      "[LightGBM] [Warning] No further splits with positive gain, best gain: -inf\n",
      "[LightGBM] [Warning] No further splits with positive gain, best gain: -inf\n",
      "[LightGBM] [Warning] No further splits with positive gain, best gain: -inf\n",
      "[LightGBM] [Warning] No further splits with positive gain, best gain: -inf\n",
      "[LightGBM] [Warning] No further splits with positive gain, best gain: -inf\n",
      "[LightGBM] [Warning] No further splits with positive gain, best gain: -inf\n",
      "[LightGBM] [Warning] No further splits with positive gain, best gain: -inf\n",
      "[LightGBM] [Warning] No further splits with positive gain, best gain: -inf\n",
      "[LightGBM] [Warning] No further splits with positive gain, best gain: -inf\n",
      "[LightGBM] [Warning] No further splits with positive gain, best gain: -inf\n",
      "[LightGBM] [Warning] No further splits with positive gain, best gain: -inf\n",
      "[LightGBM] [Warning] No further splits with positive gain, best gain: -inf\n",
      "[LightGBM] [Warning] No further splits with positive gain, best gain: -inf\n",
      "[LightGBM] [Warning] No further splits with positive gain, best gain: -inf\n",
      "[LightGBM] [Warning] No further splits with positive gain, best gain: -inf\n",
      "[LightGBM] [Warning] No further splits with positive gain, best gain: -inf\n",
      "[LightGBM] [Warning] No further splits with positive gain, best gain: -inf\n",
      "[LightGBM] [Warning] No further splits with positive gain, best gain: -inf\n",
      "[LightGBM] [Warning] No further splits with positive gain, best gain: -inf\n",
      "[LightGBM] [Warning] No further splits with positive gain, best gain: -inf\n",
      "[LightGBM] [Warning] No further splits with positive gain, best gain: -inf\n",
      "[LightGBM] [Warning] No further splits with positive gain, best gain: -inf\n",
      "[LightGBM] [Warning] No further splits with positive gain, best gain: -inf\n",
      "[LightGBM] [Warning] No further splits with positive gain, best gain: -inf\n",
      "[LightGBM] [Warning] No further splits with positive gain, best gain: -inf\n",
      "[LightGBM] [Warning] No further splits with positive gain, best gain: -inf\n",
      "[LightGBM] [Warning] No further splits with positive gain, best gain: -inf\n",
      "[LightGBM] [Warning] No further splits with positive gain, best gain: -inf\n",
      "[LightGBM] [Warning] No further splits with positive gain, best gain: -inf\n",
      "[LightGBM] [Warning] No further splits with positive gain, best gain: -inf\n",
      "[LightGBM] [Warning] No further splits with positive gain, best gain: -inf\n",
      "[LightGBM] [Warning] No further splits with positive gain, best gain: -inf\n",
      "[LightGBM] [Warning] No further splits with positive gain, best gain: -inf\n",
      "[LightGBM] [Warning] No further splits with positive gain, best gain: -inf\n",
      "[LightGBM] [Warning] No further splits with positive gain, best gain: -inf\n",
      "[LightGBM] [Warning] No further splits with positive gain, best gain: -inf\n",
      "[LightGBM] [Warning] No further splits with positive gain, best gain: -inf\n",
      "[LightGBM] [Warning] No further splits with positive gain, best gain: -inf\n",
      "[LightGBM] [Warning] No further splits with positive gain, best gain: -inf\n",
      "[LightGBM] [Warning] No further splits with positive gain, best gain: -inf\n",
      "[LightGBM] [Warning] No further splits with positive gain, best gain: -inf\n",
      "[LightGBM] [Warning] No further splits with positive gain, best gain: -inf\n",
      "[LightGBM] [Warning] No further splits with positive gain, best gain: -inf\n",
      "[LightGBM] [Warning] No further splits with positive gain, best gain: -inf\n",
      "[LightGBM] [Warning] No further splits with positive gain, best gain: -inf\n",
      "[LightGBM] [Warning] No further splits with positive gain, best gain: -inf\n",
      "[LightGBM] [Warning] No further splits with positive gain, best gain: -inf\n",
      "[LightGBM] [Warning] No further splits with positive gain, best gain: -inf\n",
      "[LightGBM] [Warning] No further splits with positive gain, best gain: -inf\n",
      "[LightGBM] [Warning] No further splits with positive gain, best gain: -inf\n",
      "[LightGBM] [Warning] No further splits with positive gain, best gain: -inf\n",
      "[LightGBM] [Warning] No further splits with positive gain, best gain: -inf\n",
      "[LightGBM] [Warning] No further splits with positive gain, best gain: -inf\n",
      "[LightGBM] [Warning] No further splits with positive gain, best gain: -inf\n",
      "[LightGBM] [Warning] No further splits with positive gain, best gain: -inf\n",
      "[LightGBM] [Warning] No further splits with positive gain, best gain: -inf\n",
      "[LightGBM] [Warning] No further splits with positive gain, best gain: -inf\n",
      "[LightGBM] [Warning] No further splits with positive gain, best gain: -inf\n",
      "[LightGBM] [Warning] No further splits with positive gain, best gain: -inf\n",
      "[LightGBM] [Warning] No further splits with positive gain, best gain: -inf\n",
      "[LightGBM] [Warning] No further splits with positive gain, best gain: -inf\n",
      "[LightGBM] [Warning] No further splits with positive gain, best gain: -inf\n",
      "[LightGBM] [Warning] No further splits with positive gain, best gain: -inf\n",
      "[LightGBM] [Warning] No further splits with positive gain, best gain: -inf\n",
      "[LightGBM] [Warning] No further splits with positive gain, best gain: -inf\n",
      "[LightGBM] [Warning] No further splits with positive gain, best gain: -inf\n",
      "[LightGBM] [Warning] No further splits with positive gain, best gain: -inf\n",
      "[LightGBM] [Warning] No further splits with positive gain, best gain: -inf\n",
      "[LightGBM] [Warning] No further splits with positive gain, best gain: -inf\n",
      "[LightGBM] [Warning] No further splits with positive gain, best gain: -inf\n",
      "[LightGBM] [Warning] No further splits with positive gain, best gain: -inf\n",
      "[LightGBM] [Warning] No further splits with positive gain, best gain: -inf\n",
      "[LightGBM] [Warning] No further splits with positive gain, best gain: -inf\n",
      "[LightGBM] [Warning] No further splits with positive gain, best gain: -inf\n",
      "[LightGBM] [Warning] No further splits with positive gain, best gain: -inf\n",
      "[LightGBM] [Warning] No further splits with positive gain, best gain: -inf\n",
      "[LightGBM] [Warning] No further splits with positive gain, best gain: -inf\n",
      "[LightGBM] [Warning] No further splits with positive gain, best gain: -inf\n",
      "[LightGBM] [Warning] No further splits with positive gain, best gain: -inf\n",
      "[LightGBM] [Warning] No further splits with positive gain, best gain: -inf\n",
      "[LightGBM] [Warning] No further splits with positive gain, best gain: -inf\n",
      "[LightGBM] [Warning] No further splits with positive gain, best gain: -inf\n",
      "[LightGBM] [Warning] No further splits with positive gain, best gain: -inf\n"
=======
      "[LightGBM] [Info] Auto-choosing col-wise multi-threading, the overhead of testing was 0.084842 seconds.\n",
      "You can set `force_col_wise=true` to remove the overhead.\n",
      "[LightGBM] [Info] Total Bins 29638\n",
      "[LightGBM] [Info] Number of data points in the train set: 850070, number of used features: 13795\n",
      "[LightGBM] [Info] Start training from score -1.739281\n",
      "[LightGBM] [Info] Start training from score -0.193156\n"
>>>>>>> dev
     ]
    }
   ],
   "source": [
    "import lightgbm as lgb\n",
    "from sklearn.model_selection import train_test_split\n",
    "from sklearn.metrics import classification_report\n",
    "from sklearn.compose import make_column_transformer, make_column_selector\n",
    "from sklearn.pipeline import make_pipeline\n",
    "from sklearn.impute import SimpleImputer\n",
    "from sklearn.preprocessing import StandardScaler, OneHotEncoder, LabelEncoder\n",
    "from datetime import datetime\n",
    "\n",
    "grid_search_bool = False\n",
    "\n",
    "numerical_features = make_column_selector(dtype_include=np.number)\n",
    "categorical_features = make_column_selector(dtype_exclude=np.number)\n",
    "\n",
    "# Définir le preprocessor\n",
    "label_encoder = LabelEncoder()\n",
    "preprocessor = make_column_transformer(\n",
    "    (make_pipeline(SimpleImputer(), StandardScaler()), numerical_features),\n",
    "    (make_pipeline(SimpleImputer(strategy='most_frequent'), OneHotEncoder(drop='if_binary')), categorical_features),\n",
    ")\n",
    "\n",
    "# Prétraiter les données\n",
    "X = preprocessor.fit_transform(df.drop(columns='MIS_Status'))\n",
    "y = label_encoder.fit_transform(df['MIS_Status'])\n",
    "\n",
    "X_train, X_test, y_train, y_test = train_test_split(X, y, shuffle=True, test_size=0.05, random_state=42, stratify=y)\n",
    "# y_train = y_train.astype(int).tolist()\n",
    "# y_test = y_test.astype(int).tolist()\n",
    "\n",
    "if grid_search_bool == False:\n",
    "    # LGBM\n",
    "    d_train = lgb.Dataset(X_train, label=y_train)\n",
    "\n",
    "    # https://lightgbm.readthedocs.io/en/latest/Parameters.html\n",
    "    # best f1 macro : 0.9154\n",
    "    # \n",
    "    lgbm_params = {\n",
    "        'objective': ['multiclass'], # binary multiclass\n",
    "        'num_class': 2,\n",
    "        'boosting_type': ['gbdt'], # dart goss rf\n",
    "        'metric': ['multi_logloss'],\n",
    "        'num_leaves': [500], # [10, 50, 100]\n",
    "        'learning_rate': [0.2], # [0.01, 0.05, 0.1, 0.2]\n",
    "        'feature_fraction': [0.8],\n",
    "        'bagging_fraction': [0.8],\n",
    "        'bagging_freq': [5],\n",
    "        'lambda_l1': [1], # [0.1, 0.5, 1.0, 2.0]\n",
    "        'lambda_l2': [1], # [0.1, 0.5, 1.0, 2.0]\n",
    "        'verbose': [1],\n",
    "    }\n",
    "    # pycaret\n",
    "    # lgbm_params = {\n",
    "    #     'objective': [None],\n",
    "    #     'class_weight': [None],\n",
    "    #     'colsample_bytree': [1.0],\n",
    "    #     'importance_type': ['split'],\n",
    "    #     'learning_rate': [0.1],\n",
    "    #     'max_depth': [-1],\n",
    "    #     'min_child_samples': [20],\n",
    "    #     'min_child_weight': [0.001],\n",
    "    #     'min_split_gain': [0.0],\n",
    "    #     'n_estimators': [100],\n",
    "    #     'n_jobs': [-1],\n",
    "    #     'num_leaves': [31],\n",
    "    #     'random_state': [0],\n",
    "    #     'reg_alpha': [0.0],\n",
    "    #     'reg_lambda': [0.0],\n",
    "    #     'subsample': [1.0],\n",
    "    #     'subsample_for_bin': [200000],\n",
    "    #     'subsample_freq': [0],\n",
    "    #     'metric': ['f1'],\n",
    "    #     # 'feature_fraction': [0.8],\n",
    "    #     # 'bagging_fraction': [0.8],\n",
    "    #     # 'bagging_freq': [10],\n",
    "    #     # 'lambda_l1': [1], # [0.1, 0.5, 1.0, 2.0]\n",
    "    #     # 'lambda_l2': [1], # [0.1, 0.5, 1.0, 2.0]\n",
    "    #     # 'verbose': [1],\n",
    "    # }\n",
    "\n",
    "    start=datetime.now()\n",
    "    clf = lgb.train(lgbm_params, d_train, 50) #50 iterations. Increase iterations for small learning rates\n",
    "    stop=datetime.now()\n",
    "    execution_time_lgbm = stop-start\n",
    "\n",
    "    #Prediction on test data\n",
    "    y_pred_lgbm=clf.predict(X_test)\n",
    "\n",
    "    #convert into binary values 0/1 for classification\n",
    "    y_pred_lgbm = [list(x).index(max(x)) for x in y_pred_lgbm]\n"
   ]
  },
  {
   "cell_type": "code",
<<<<<<< HEAD
   "execution_count": 15,
=======
   "execution_count": 53,
>>>>>>> dev
   "metadata": {},
   "outputs": [
    {
     "name": "stdout",
     "output_type": "stream",
     "text": [
      "#########################################################\n",
<<<<<<< HEAD
      "     LGBM execution time is:  0:00:01.284799\n",
      "#########################################################\n",
      "              precision    recall  f1-score    support\n",
      "0              0.800000  0.571429  0.666667   7.000000\n",
      "1              0.936170  0.977778  0.956522  45.000000\n",
      "accuracy       0.923077  0.923077  0.923077   0.923077\n",
      "macro avg      0.868085  0.774603  0.811594  52.000000\n",
      "weighted avg   0.917840  0.923077  0.917503  52.000000\n",
      "#########################################################\n",
      "                  F1 macro score: 0.8116\n",
=======
      "     LGBM execution time is:  0:00:29.051714\n",
      "#########################################################\n",
      "              precision    recall  f1-score       support\n",
      "0              0.876718  0.844255  0.860180   7859.000000\n",
      "1              0.967073  0.974703  0.970873  36882.000000\n",
      "accuracy       0.951789  0.951789  0.951789      0.951789\n",
      "macro avg      0.921895  0.909479  0.915527  44741.000000\n",
      "weighted avg   0.951202  0.951789  0.951429  44741.000000\n",
      "#########################################################\n",
      "                  F1 macro score: 0.9155\n",
>>>>>>> dev
      "#########################################################\n"
     ]
    },
    {
     "data": {
<<<<<<< HEAD
      "image/png": "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",
=======
      "image/png": "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",
>>>>>>> dev
      "text/plain": [
       "<Figure size 800x600 with 2 Axes>"
      ]
     },
     "metadata": {},
     "output_type": "display_data"
    }
   ],
   "source": [
    "if grid_search_bool == False:\n",
    "    plt.figure(figsize=(8, 6))\n",
    "    cm_lgbm = confusion_matrix(y_test, y_pred_lgbm)\n",
    "    sns.heatmap(cm_lgbm, annot=True)\n",
    "    plt.title(\"LightGBM\")\n",
    "    plt.xlabel('Valeurs Prédites')\n",
    "    plt.ylabel('Valeurs Réelles')\n",
    "\n",
    "    ################\n",
    "    #SUMMARY\n",
    "    report = classification_report(y_test, y_pred_lgbm, output_dict=True)\n",
    "    df_report = pd.DataFrame(report)\n",
    "    print(\"#########################################################\")\n",
    "    print(\"     LGBM execution time is: \", execution_time_lgbm)\n",
    "    print(\"#########################################################\")\n",
    "    print(df_report.T)\n",
    "    print(\"#########################################################\")\n",
    "    print(\"                  F1 macro score:\", round(report[\"macro avg\"][\"f1-score\"], 4))\n",
    "    print(\"#########################################################\")"
   ]
  },
  {
   "cell_type": "markdown",
   "metadata": {},
   "source": [
    "___\n",
    "___\n",
    "___\n",
    "### nouvelle version : XGBoost\n",
    "___\n",
    "___\n",
    "___"
   ]
  },
  {
   "cell_type": "code",
<<<<<<< HEAD
   "execution_count": 17,
=======
   "execution_count": 54,
>>>>>>> dev
   "metadata": {},
   "outputs": [
    {
     "name": "stdout",
     "output_type": "stream",
     "text": [
<<<<<<< HEAD
      "execution_time: 0:00:00.216525\n"
=======
      "COUNT (X)= 894811\n",
      "execution_time: 0:00:10.774501\n"
>>>>>>> dev
     ]
    }
   ],
   "source": [
    "import numpy as np\n",
    "import pandas as pd\n",
    "from sklearn.model_selection import train_test_split\n",
    "from sklearn.preprocessing import StandardScaler, LabelEncoder\n",
    "from sklearn.pipeline import Pipeline\n",
    "import xgboost as xgb\n",
    "\n",
    "\n",
    "label_encoder = LabelEncoder()\n",
    "preprocessor = make_column_transformer(\n",
    "    (make_pipeline(SimpleImputer(), StandardScaler()), numerical_features),\n",
    "    (make_pipeline(SimpleImputer(strategy='most_frequent'), OneHotEncoder(handle_unknown='ignore')), categorical_features),\n",
    ")\n",
    "\n",
    "# Définition du pipeline\n",
    "pipeline = Pipeline([\n",
    "    ('preprocessor', preprocessor),\n",
    "    ('classifier', xgb.XGBClassifier(\n",
    "        objective='binary:logistic',\n",
    "        eval_metric='error',\n",
    "        eta=0.1,\n",
    "        max_depth=6,\n",
    "        min_child_weight=1,\n",
    "        subsample=0.8,\n",
    "        colsample_bytree=0.8,\n",
    "        gamma=0,\n",
    "        seed=42\n",
    "    ))\n",
    "])\n",
    "\n",
    "# Séparation des fonctionnalités et de la variable cible\n",
    "X = df.drop(columns='MIS_Status')\n",
    "y = label_encoder.fit_transform(df['MIS_Status'])\n",
<<<<<<< HEAD
=======
    "print(\"COUNT (X)=\", X.shape[0])\n",
>>>>>>> dev
    "\n",
    "# Division des données en ensembles d'entraînement et de test\n",
    "X_train, X_test, y_train, y_test = train_test_split(X, y, test_size=0.2, random_state=42)\n",
    "\n",
    "# Entraînement du pipeline\n",
    "start=datetime.now()\n",
    "pipeline.fit(X_train, y_train)\n",
    "stop=datetime.now()\n",
    "execution_time = stop-start\n",
    "\n",
    "# Évaluation du pipeline\n",
    "y_pred = pipeline.predict(X_test)\n",
<<<<<<< HEAD
    "print(\"execution_time:\", execution_time)\n"
=======
    "print(\"execution_time:\", execution_time)"
>>>>>>> dev
   ]
  },
  {
   "cell_type": "code",
<<<<<<< HEAD
   "execution_count": 21,
=======
   "execution_count": 55,
>>>>>>> dev
   "metadata": {},
   "outputs": [
    {
     "name": "stdout",
     "output_type": "stream",
     "text": [
      "#########################################################\n",
<<<<<<< HEAD
      "      XGBoost execution time is:  0:00:00.216525\n",
      "#########################################################\n",
      "              precision    recall  f1-score     support\n",
      "0              0.761905  0.533333  0.627451   30.000000\n",
      "1              0.924324  0.971591  0.947368  176.000000\n",
      "accuracy       0.907767  0.907767  0.907767    0.907767\n",
      "macro avg      0.843115  0.752462  0.787410  206.000000\n",
      "weighted avg   0.900671  0.907767  0.900779  206.000000\n",
      "#########################################################\n",
      "                  F1 macro score: 0.7874\n",
=======
      "      XGBoost execution time is:  0:00:10.774501\n",
      "#########################################################\n",
      "              precision    recall  f1-score        support\n",
      "0              0.859094  0.778931  0.817051   31497.000000\n",
      "1              0.953705  0.972712  0.963115  147466.000000\n",
      "accuracy       0.938607  0.938607  0.938607       0.938607\n",
      "macro avg      0.906399  0.875822  0.890083  178963.000000\n",
      "weighted avg   0.937054  0.938607  0.937408  178963.000000\n",
      "#########################################################\n",
      "                  F1 macro score: 0.8901\n",
>>>>>>> dev
      "#########################################################\n"
     ]
    },
    {
     "data": {
<<<<<<< HEAD
      "image/png": "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",
=======
      "image/png": "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",
>>>>>>> dev
      "text/plain": [
       "<Figure size 800x600 with 2 Axes>"
      ]
     },
     "metadata": {},
     "output_type": "display_data"
    }
   ],
   "source": [
    "#Prediction on test data\n",
    "y_pred_XGB=pipeline.predict(X_test)\n",
    "\n",
    "if grid_search_bool == False:\n",
    "    plt.figure(figsize=(8, 6))\n",
    "    cm_XGB = confusion_matrix(y_test, y_pred_XGB)\n",
    "    sns.heatmap(cm_XGB, annot=True)\n",
    "    plt.title(\"XGBoost\")\n",
    "    plt.xlabel('Valeurs Prédites')\n",
    "    plt.ylabel('Valeurs Réelles')\n",
    "\n",
    "    ################\n",
    "    #SUMMARY\n",
    "    report = classification_report(y_test, y_pred_XGB, output_dict=True)\n",
    "    df_report = pd.DataFrame(report)\n",
    "    print(\"#########################################################\")\n",
    "    print(\"      XGBoost execution time is: \", execution_time)\n",
    "    print(\"#########################################################\")\n",
    "    print(df_report.T)\n",
    "    print(\"#########################################################\")\n",
    "    print(\"                  F1 macro score:\", round(report[\"macro avg\"][\"f1-score\"], 4))\n",
    "    print(\"#########################################################\")"
   ]
  },
  {
   "cell_type": "markdown",
   "metadata": {},
   "source": [
    "___\n",
    "# PICKLE"
   ]
  },
  {
   "cell_type": "code",
<<<<<<< HEAD
   "execution_count": 22,
=======
   "execution_count": 56,
>>>>>>> dev
   "metadata": {},
   "outputs": [],
   "source": [
    "import pickle\n",
    "\n",
    "# Définir le nom du fichier pkl\n",
    "filename = './model/modelXGB.pkl'\n",
    "\n",
    "# Sauvegarder le modèle dans le fichier pkl\n",
    "with open(filename, 'wb') as file:\n",
    "    pickle.dump(pipeline, file)\n"
   ]
  }
 ],
 "metadata": {
  "kernelspec": {
   "display_name": "Python 3",
   "language": "python",
   "name": "python3"
  },
  "language_info": {
   "codemirror_mode": {
    "name": "ipython",
    "version": 3
   },
   "file_extension": ".py",
   "mimetype": "text/x-python",
   "name": "python",
   "nbconvert_exporter": "python",
   "pygments_lexer": "ipython3",
   "version": "3.10.12"
  }
 },
 "nbformat": 4,
 "nbformat_minor": 2
}
