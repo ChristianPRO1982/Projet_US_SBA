{
 "cells": [
  {
   "cell_type": "markdown",
   "metadata": {},
   "source": [
    "1. Nettoyage\n",
    "2. Suppression\n",
    "3. Gestion des NA\n",
    "4. Création de features"
   ]
  },
  {
   "cell_type": "code",
   "execution_count": null,
   "metadata": {},
   "outputs": [],
   "source": [
    "import pandas as pd \n",
    "\n",
    "df = pd.read_csv('data_set/SBAnational.csv')\n",
    "df.head(10)"
   ]
  },
  {
   "cell_type": "markdown",
   "metadata": {},
   "source": [
    "### Selection des colonnes"
   ]
  },
  {
   "cell_type": "code",
   "execution_count": null,
   "metadata": {},
   "outputs": [],
   "source": [
    "df.columns"
   ]
  },
  {
   "cell_type": "code",
   "execution_count": null,
   "metadata": {},
   "outputs": [],
   "source": [
    "df=df[['City', 'State', 'Zip', 'Bank', 'BankState',\n",
    "       'NAICS', 'ApprovalDate', 'ApprovalFY', 'Term', 'NoEmp', 'NewExist',\n",
    "       'CreateJob', 'RetainedJob', 'FranchiseCode', 'UrbanRural', 'RevLineCr',\n",
    "       'LowDoc', 'ChgOffDate', 'DisbursementDate', 'DisbursementGross',\n",
    "       'BalanceGross', 'MIS_Status', 'ChgOffPrinGr', 'GrAppv', 'SBA_Appv']]"
   ]
  },
  {
   "cell_type": "markdown",
   "metadata": {},
   "source": [
    "### Transformation des dates "
   ]
  },
  {
   "cell_type": "code",
   "execution_count": null,
   "metadata": {},
   "outputs": [],
   "source": [
    "# erreur de frappe '1976A' au lieu de 1976\n",
    "\n",
    "filtre = df['ApprovalFY']=='1976A'\n",
    "\n",
    "df.loc[filtre,['ApprovalFY']]='1976'"
   ]
  },
  {
   "cell_type": "code",
   "execution_count": null,
   "metadata": {},
   "outputs": [],
   "source": [
    "# transformation des colonnes ApprovalDate et DisbursementDate\n",
    "\n",
    "df['ApprovalDate']= pd.to_datetime(df['ApprovalDate'], format='%d-%b-%y', errors='coerce')\n",
    "df['DisbursementDate']= pd.to_datetime(df['DisbursementDate'], format='%d-%b-%y', errors='coerce')\n",
    "df['ChgOffDate']= pd.to_datetime(df['ChgOffDate'], format='%d-%b-%y', errors='coerce')\n",
    "\n",
    "# transformation de la colonne ApprovalFY\n",
    "\n",
    "df['ApprovalFY']= pd.to_datetime(df['ApprovalFY'],format='%Y')\n",
    "\n"
   ]
  },
  {
   "cell_type": "markdown",
   "metadata": {},
   "source": [
    "### Transformation des montants"
   ]
  },
  {
   "cell_type": "code",
   "execution_count": null,
   "metadata": {},
   "outputs": [],
   "source": [
    "colonnes_montant = ['DisbursementGross','BalanceGross','ChgOffPrinGr','GrAppv','SBA_Appv']\n",
    "\n",
    "for colonne in colonnes_montant:\n",
    "    df[colonne] = pd.to_numeric(df[colonne].str.replace('[\\$,]', '', regex=True).str.replace(',', '', regex=False), errors='coerce')\n",
    "    df[colonne] = df[colonne].round(2)\n",
    "\n",
    "df.head()"
   ]
  },
  {
   "cell_type": "markdown",
   "metadata": {},
   "source": [
    "### Suppression des NA dans la target"
   ]
  },
  {
   "cell_type": "code",
   "execution_count": null,
   "metadata": {},
   "outputs": [],
   "source": [
    "print(len(df))\n",
    "df= df.dropna(subset=['MIS_Status'], axis=0)\n",
    "print(len(df))"
   ]
  },
  {
   "cell_type": "markdown",
   "metadata": {},
   "source": [
    "### Gestion des Borrower city"
   ]
  },
  {
   "cell_type": "code",
   "execution_count": null,
   "metadata": {},
   "outputs": [],
   "source": [
    "#remplacer les valeurs NaN par la valeur la plus fréquente selon le code Zip\n",
    "\n",
    "cities = df.groupby('Zip')['City'].apply(lambda x: x.mode().iloc[0])\n",
    "\n",
    "df['City'] = df.apply(lambda row: row['City'] if pd.notnull(row['City']) else cities[row['Zip']], axis=1)\n",
    "\n",
    "df['City'].isnull().sum()"
   ]
  },
  {
   "cell_type": "markdown",
   "metadata": {},
   "source": [
    "### Gestion Borrower State\n"
   ]
  },
  {
   "cell_type": "code",
   "execution_count": null,
   "metadata": {},
   "outputs": [],
   "source": [
    "#remplacer les valeurs NaN par la valeur la plus fréquente selon 'City'\n",
    "\n",
    "# Fonction pour obtenir le mode tout en traitant les cas spéciaux\n",
    "def get_mode(series):\n",
    "    try:\n",
    "        return series.mode().iloc[0]\n",
    "    except IndexError:\n",
    "        return 'NA'\n",
    "\n",
    "# Obtenir le mode pour chaque groupe 'Zip' dans la colonne 'State'\n",
    "states = df.groupby('City')['State'].apply(get_mode).reset_index()\n",
    "df = pd.merge(df, states, on='City', how='left', suffixes=('', '_Mode'))\n",
    "df['State'] = df['State_Mode']\n",
    "df = df.drop('State_Mode', axis=1)"
   ]
  },
  {
   "cell_type": "markdown",
   "metadata": {},
   "source": [
    "### Gestion de Bank"
   ]
  },
  {
   "cell_type": "code",
   "execution_count": null,
   "metadata": {},
   "outputs": [],
   "source": [
    "\n",
    "# Obtenir le mode pour chaque groupe 'Zip' dans la colonne 'Bank'\n",
    "Banks = df.groupby('City')['Bank'].apply(get_mode).reset_index()\n",
    "df = pd.merge(df, Banks, on='City', how='left', suffixes=('', '_Mode'))\n",
    "df['Bank'] = df['Bank_Mode']\n",
    "df = df.drop('Bank_Mode', axis=1)\n",
    "\n",
    "df[df['Bank'].isnull()]"
   ]
  },
  {
   "cell_type": "markdown",
   "metadata": {},
   "source": [
    "### Gestion Bank State\n"
   ]
  },
  {
   "cell_type": "code",
   "execution_count": null,
   "metadata": {},
   "outputs": [],
   "source": [
    "#remplacer les valeurs NaN par la valeur la plus fréquente selon 'Bank'\n",
    "\n",
    "# Obtenir le mode pour chaque groupe 'Bank' dans la colonne 'BankState'\n",
    "BankStates = df.groupby('City')['BankState'].apply(get_mode).reset_index()\n",
    "df = pd.merge(df, BankStates, on='City', how='left', suffixes=('', '_Mode'))\n",
    "df['BankState'] = df['BankState_Mode']\n",
    "df = df.drop('BankState_Mode', axis=1)"
   ]
  },
  {
   "cell_type": "markdown",
   "metadata": {},
   "source": [
    "### Gestion ApprovalDate\n"
   ]
  },
  {
   "cell_type": "code",
   "execution_count": null,
   "metadata": {},
   "outputs": [],
   "source": [
    "filtre= df['ApprovalDate'].isnull()\n",
    "df[filtre]"
   ]
  },
  {
   "cell_type": "markdown",
   "metadata": {},
   "source": [
    "### Atomisation NewExist"
   ]
  },
  {
   "cell_type": "code",
   "execution_count": null,
   "metadata": {},
   "outputs": [],
   "source": [
    "filtre = df['NewExist'].isnull()\n",
    "df=df.dropna(subset=['NewExist'], axis=0)\n",
    "\n",
    "df['NewExist'].isnull().sum()"
   ]
  },
  {
   "cell_type": "markdown",
   "metadata": {},
   "source": [
    "### Gestion RevLineCr"
   ]
  },
  {
   "cell_type": "code",
   "execution_count": null,
   "metadata": {},
   "outputs": [],
   "source": [
    "#On garde les valeurs 'Y' et 'N' pour les autres on met la valeur '-' :\n",
    "def modifier_valeur(valeur):\n",
    "    if valeur not in ['Y', 'N']:\n",
    "        return '-'\n",
    "    else:\n",
    "        return valeur\n",
    "\n",
    "#on remplace les 0 par N et les [1, T] par Y\n",
    "def modifier_valeur2(valeur):\n",
    "    if valeur in ['N', '0']:\n",
    "        return 'N'\n",
    "    if valeur in ['Y', '1', 'T']:\n",
    "        return 'Y'\n",
    "    else:\n",
    "        return pd.NA\n",
    "    \n",
    "df['RevLineCr'] = df['RevLineCr'].apply(modifier_valeur)"
   ]
  },
  {
   "cell_type": "markdown",
   "metadata": {},
   "source": [
    "### Gestion des LowDoc\n",
    "<= 150 000 alors Y\n",
    "> 150 000 alors N"
   ]
  },
  {
   "cell_type": "code",
   "execution_count": null,
   "metadata": {},
   "outputs": [],
   "source": [
    "# gestion des NaN\n",
    "\n",
    "filtre1 = df['LowDoc'].isnull()\n",
    "\n",
    "filtre2 = df['GrAppv']<= 150000\n",
    "filtre3= df['GrAppv']>150000\n",
    "\n",
    "df.loc[filtre1&filtre2,'LowDoc']='Y'\n",
    "df.loc[filtre1&filtre3,'LowDoc'] = 'N'\n",
    "\n",
    "# gestion des valeurs autre que Y et N\n",
    "\n",
    "\n",
    "filtre= (df['LowDoc']!= 'Y') & (df['LowDoc']!='N')\n",
    "display(df.loc[filtre,['LowDoc','GrAppv']])\n",
    "df.loc[filtre&filtre2,'LowDoc']='Y'\n",
    "df.loc[filtre&filtre3,'LowDoc']='N'\n",
    "display(df.loc[filtre,['LowDoc','GrAppv']])\n",
    "\n",
    "df['LowDoc'].unique()\n",
    "\n"
   ]
  },
  {
   "cell_type": "markdown",
   "metadata": {},
   "source": [
    "### Atomisation radioactive des DisbursementDate"
   ]
  },
  {
   "cell_type": "code",
   "execution_count": null,
   "metadata": {},
   "outputs": [],
   "source": [
    "df=df.dropna(subset=['DisbursementDate'],axis=0)\n",
    "df['DisbursementDate'].isnull().sum()"
   ]
  },
  {
   "cell_type": "markdown",
   "metadata": {},
   "source": [
    "### Traitement des ChgOffDate"
   ]
  },
  {
   "cell_type": "code",
   "execution_count": null,
   "metadata": {},
   "outputs": [],
   "source": [
    "#suppression des NaN dont la target = 'CHGOFF'\n",
    "#pour les target = 'P I F' on met la date la plus récente :\n",
    "\n",
    "df = df.query(\"MIS_Status != 'CHGOFF' or ChgOffDate.notna()\")\n",
    "# df['ChgOffDate'].describe()\n",
    "max_date = '13-Mar-10'\n",
    "df['ChgOffDate'] = df['ChgOffDate'].fillna(max_date)"
   ]
  },
  {
   "cell_type": "markdown",
   "metadata": {},
   "source": [
    "### NAICS\n",
    "les valeurs avec 6 caractères sont tronquées : on ne garde que les 2 premiers chiffres"
   ]
  },
  {
   "cell_type": "code",
   "execution_count": null,
   "metadata": {},
   "outputs": [],
   "source": [
    "df['NAICS'] = df['NAICS'].astype(str)\n",
    "df['NAICS'] = df['NAICS'].apply(lambda x: x[:2])\n",
    "df['NAICS'] = df['NAICS'].astype(int)"
   ]
  },
  {
   "cell_type": "markdown",
   "metadata": {},
   "source": [
    "### Traitement des FranchiseCode"
   ]
  },
  {
   "cell_type": "code",
   "execution_count": null,
   "metadata": {},
   "outputs": [],
   "source": [
    "# 1        636232\n",
    "# 0        206923\n",
    "df['FranchiseCode'] = pd.to_numeric(df['FranchiseCode'], errors='coerce')\n",
    "df['FranchiseCode'] = df['FranchiseCode'].replace([0, 1], '0')\n",
    "df['FranchiseCode'] = df['FranchiseCode'].replace(to_replace=df['FranchiseCode'].unique()[1:], value='1')\n",
    "df['FranchiseCode'].value_counts()"
   ]
  },
  {
   "cell_type": "markdown",
   "metadata": {},
   "source": [
    "### différence entre la création et les jobs gardés"
   ]
  },
  {
   "cell_type": "code",
   "execution_count": null,
   "metadata": {},
   "outputs": [],
   "source": [
    "df['DiffJobs'] = df['RetainedJob'] - df['CreateJob']\n",
    "dd = df[['RetainedJob', 'CreateJob', 'DiffJobs', 'MIS_Status']]"
   ]
  },
  {
   "cell_type": "code",
   "execution_count": null,
   "metadata": {},
   "outputs": [],
   "source": [
    "dd.query(\"RetainedJob != 0\")"
   ]
  },
  {
   "cell_type": "markdown",
   "metadata": {},
   "source": [
    "### des survivants à l'atomisation ???"
   ]
  },
  {
   "cell_type": "markdown",
   "metadata": {},
   "source": [
    "                               ________________\n",
    "                          ____/ (  (    )   )  \\___\n",
    "                         /( (  (  )   _    ))  )   )\\\n",
    "                       ((     (   )(    )  )   (   )  )\n",
    "                     ((/  ( _(   )   (   _) ) (  () )  )\n",
    "                    ( (  ( (_)   ((    (   )  .((_ ) .  )_\n",
    "                   ( (  )    (      (  )    )   ) . ) (   )\n",
    "                  (  (   (  (   ) (  _  ( _) ).  ) . ) ) ( )\n",
    "                  ( (  (   ) (  )   (  ))     ) _)(   )  )  )\n",
    "                 ( (  ( \\ ) (    (_  ( ) ( )  )   ) )  )) ( )\n",
    "                  (  (   (  (   (_ ( ) ( _    )  ) (  )  )   )\n",
    "                 ( (  ( (  (  )     (_  )  ) )  _)   ) _( ( )\n",
    "                  ((  (   )(    (     _    )   _) _(_ (  (_ )\n",
    "                   (_((__(_(__(( ( ( |  ) ) ) )_))__))_)___)\n",
    "                   ((__)        \\\\||lll|l||///          \\_))\n",
    "                            (   /(/ (  )  ) )\\   )\n",
    "                          (    ( ( ( | | ) ) )\\   )\n",
    "                           (   /(| / ( )) ) ) )) )\n",
    "                         (     ( ((((_(|)_)))))     )\n",
    "                          (      ||\\(|(|)|/||     )\n",
    "                        (        |(||(||)||||        )\n",
    "                          (     //|/l|||)|\\\\ \\     )\n",
    "                        (/ / //  /|//||||\\\\  \\ \\  \\ _)\n",
    "-------------------------------------------------------------------------------\n"
   ]
  },
  {
   "cell_type": "code",
   "execution_count": null,
   "metadata": {},
   "outputs": [],
   "source": [
    "df.isnull().sum()"
   ]
  },
  {
   "cell_type": "code",
   "execution_count": null,
   "metadata": {},
   "outputs": [],
   "source": [
    "df.drop(columns='ChgOffDate',inplace=True)\n",
    "df.drop(columns='DisbursementDate',inplace=True)\n",
    "df.drop(columns='DisbursementGross',inplace=True)\n",
    "df.drop(columns='BalanceGross',inplace=True)\n",
    "df.drop(columns='ChgOffPrinGr',inplace=True)\n",
    "df.drop(columns='SBA_Appv',inplace=True)"
   ]
  },
  {
   "cell_type": "code",
   "execution_count": null,
   "metadata": {},
   "outputs": [],
   "source": [
    "#creation d'un csv avec la nouvelle version\n",
    "\n",
    "# df.to_csv('./data_set/SBAnational-EDA.csv')"
   ]
  }
 ],
 "metadata": {
  "kernelspec": {
   "display_name": "venv",
   "language": "python",
   "name": "python3"
  },
  "language_info": {
   "codemirror_mode": {
    "name": "ipython",
    "version": 3
   },
   "file_extension": ".py",
   "mimetype": "text/x-python",
   "name": "python",
   "nbconvert_exporter": "python",
   "pygments_lexer": "ipython3",
   "version": "3.10.12"
  }
 },
 "nbformat": 4,
 "nbformat_minor": 2
}
